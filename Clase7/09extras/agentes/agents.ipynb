{
 "cells": [
  {
   "cell_type": "markdown",
   "metadata": {},
   "source": [
    "## Agentes en LangChain"
   ]
  },
  {
   "cell_type": "code",
   "execution_count": 1,
   "metadata": {},
   "outputs": [],
   "source": [
    "from langchain.chat_models import ChatOpenAI\n",
    "from langchain.agents import load_tools\n",
    "from langchain.agents import initialize_agent\n",
    "from langchain.agents import AgentType\n",
    "from langchain.agents import AgentExecutor\n",
    "from langchain.tools.render import render_text_description\n",
    "from langchain import hub\n",
    "import os, getpass"
   ]
  },
  {
   "cell_type": "code",
   "execution_count": 2,
   "metadata": {},
   "outputs": [],
   "source": [
    "os.environ[\"OPENAI_API_KEY\"] = getpass.getpass(\"Ingresa tu API Key de OpenAI : \")"
   ]
  },
  {
   "cell_type": "code",
   "execution_count": 3,
   "metadata": {},
   "outputs": [],
   "source": [
    "os.environ[\"SERPAPI_API_KEY\"] = getpass.getpass(\"Ingresa tu API Key de SerpAPI : \")"
   ]
  },
  {
   "cell_type": "code",
   "execution_count": 4,
   "metadata": {},
   "outputs": [],
   "source": [
    "llm = ChatOpenAI(model_name = \"gpt-3.5-turbo\")\n",
    "tools = load_tools([\"serpapi\"], llm = llm)"
   ]
  },
  {
   "cell_type": "code",
   "execution_count": 5,
   "metadata": {},
   "outputs": [],
   "source": [
    "prompt = hub.pull(\"hwchase17/react-json\")\n",
    "prompt = prompt.partial(\n",
    "    tools = render_text_description(tools),\n",
    "    tool_names = \", \".join([t.name for t in tools]),\n",
    ")"
   ]
  },
  {
   "cell_type": "markdown",
   "metadata": {},
   "source": [
    "## Inicializa agente"
   ]
  },
  {
   "cell_type": "code",
   "execution_count": 6,
   "metadata": {},
   "outputs": [],
   "source": [
    "agent_executor = initialize_agent(\n",
    "    tools, \n",
    "    llm, \n",
    "    agent = AgentType.ZERO_SHOT_REACT_DESCRIPTION, \n",
    "    verbose = True\n",
    ")"
   ]
  },
  {
   "cell_type": "markdown",
   "metadata": {},
   "source": [
    "## Ejecuta agente"
   ]
  },
  {
   "cell_type": "code",
   "execution_count": 8,
   "metadata": {},
   "outputs": [
    {
     "name": "stdout",
     "output_type": "stream",
     "text": [
      "\n",
      "\n",
      "\u001b[1m> Entering new AgentExecutor chain...\u001b[0m\n",
      "\u001b[32;1m\u001b[1;3mI need to find out who won the 2023 Copa Libertadores and who scored the last goal.\n",
      "Action: Search\n",
      "Action Input: \"2023 Copa Libertadores champion and last goal scorer\"\u001b[0m\n",
      "Observation: \u001b[36;1m\u001b[1;3m['Goals scored, 386 (2.49 per match). Top scorer(s) ... Local tournament champion, with bonus points awarded to domestic league champions of the last 10 years.']\u001b[0m\n",
      "Thought:\u001b[32;1m\u001b[1;3mThis search did not provide the desired information. I need to refine my search query.\n",
      "Action: Search\n",
      "Action Input: \"2023 Copa Libertadores winner and last goal scorer\"\u001b[0m\n",
      "Observation: \u001b[36;1m\u001b[1;3mJohn Kennedy scores dramatic goal in Copa Libertadores final, gets red card for overdoing celebration. Watch Now: It was an epic finish to the 2023 Copa Libertadores final as Marcelo and Fluminense lifted the historic trophy for the first time in club history, knocking off Boca Juniors by a 2-1 score.\u001b[0m\n",
      "Thought:\u001b[32;1m\u001b[1;3mI found the information I was looking for.\n",
      "Final Answer: The champion of the 2023 Copa Libertadores was Fluminense and the last goal was scored by John Kennedy.\u001b[0m\n",
      "\n",
      "\u001b[1m> Finished chain.\u001b[0m\n"
     ]
    },
    {
     "data": {
      "text/plain": [
       "{'input': 'Who was the champion of the 2023 Copa Libertadores, who scored the last goal?',\n",
       " 'output': 'The champion of the 2023 Copa Libertadores was Fluminense and the last goal was scored by John Kennedy.'}"
      ]
     },
     "execution_count": 8,
     "metadata": {},
     "output_type": "execute_result"
    }
   ],
   "source": [
    "agent_executor.invoke(\n",
    "    {\n",
    "        \"input\": \"Who was the champion of the 2023 Copa Libertadores, who scored the last goal?\"\n",
    "    }\n",
    ")"
   ]
  }
 ],
 "metadata": {
  "kernelspec": {
   "display_name": "Python 3",
   "language": "python",
   "name": "python3"
  },
  "language_info": {
   "codemirror_mode": {
    "name": "ipython",
    "version": 3
   },
   "file_extension": ".py",
   "mimetype": "text/x-python",
   "name": "python",
   "nbconvert_exporter": "python",
   "pygments_lexer": "ipython3",
   "version": "3.10.8"
  }
 },
 "nbformat": 4,
 "nbformat_minor": 2
}
