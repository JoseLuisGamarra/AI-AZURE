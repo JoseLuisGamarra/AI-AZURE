{
 "cells": [
  {
   "cell_type": "code",
   "execution_count": 1,
   "metadata": {},
   "outputs": [],
   "source": [
    "import os, getpass"
   ]
  },
  {
   "cell_type": "code",
   "execution_count": 2,
   "metadata": {},
   "outputs": [],
   "source": [
    "os.environ[\"OPENAI_API_KEY\"] = getpass.getpass(\"Ingresa tu API Key de OpenAI : \")"
   ]
  },
  {
   "cell_type": "code",
   "execution_count": 3,
   "metadata": {},
   "outputs": [
    {
     "name": "stdout",
     "output_type": "stream",
     "text": [
      "[youtube] Extracting URL: https://www.youtube.com/watch?v=5yyB6qmafuc\n",
      "[youtube] 5yyB6qmafuc: Downloading webpage\n",
      "[youtube] 5yyB6qmafuc: Downloading ios player API JSON\n",
      "[youtube] 5yyB6qmafuc: Downloading android player API JSON\n",
      "[youtube] 5yyB6qmafuc: Downloading m3u8 information\n",
      "[info] 5yyB6qmafuc: Downloading 1 format(s): 140\n",
      "[download] Destination: docs/youtube//Los límites físicos de la inteligencia artificial.m4a\n",
      "[download] 100% of    4.64MiB in 00:00:00 at 5.07MiB/s   \n",
      "[FixupM4a] Correcting container of \"docs/youtube//Los límites físicos de la inteligencia artificial.m4a\"\n",
      "[ExtractAudio] Not converting audio docs/youtube//Los límites físicos de la inteligencia artificial.m4a; file is already in target format m4a\n",
      "Transcribing part 1!\n"
     ]
    }
   ],
   "source": [
    "from langchain.document_loaders.generic import GenericLoader\n",
    "from langchain.document_loaders.parsers import OpenAIWhisperParser\n",
    "from langchain.document_loaders.blob_loaders.youtube_audio import YoutubeAudioLoader\n",
    "\n",
    "url = \"https://www.youtube.com/watch?v=5yyB6qmafuc\" #5 minutos\n",
    "save_dir = \"docs/youtube/\"\n",
    "loader = GenericLoader(\n",
    "    YoutubeAudioLoader([url], save_dir),\n",
    "    OpenAIWhisperParser()\n",
    ")\n",
    "data = loader.load()"
   ]
  },
  {
   "cell_type": "code",
   "execution_count": 4,
   "metadata": {},
   "outputs": [
    {
     "data": {
      "text/plain": [
       "[Document(page_content='¿Qué pasaría si la inteligencia artificial, la que está detrás de nuestro feed de redes sociales, de los pagos bancarios o de las búsquedas de Google, se detiene? ¿Qué pasa si deja de funcionar? Estamos todavía lejos de que eso pase, pero lo que sí está claro es que, antes de que la inteligencia artificial se apodere del planeta, es más fácil quedarnos sin recursos físicos para entrenar y hacer funcionar esta tecnología, que va creciendo más rápido de lo que todos esperaban. Aquí les cuento más. La computación, los cálculos computacionales de los programas de inteligencia artificial, normalmente se hacen en centros de datos. Esos son edificios que albergan miles de computadoras y servidores. Pero esta capacidad física, obvio, también puede llegar a sus límites, de seguir usando la inteligencia artificial al ritmo al que lo venimos haciendo. Esto nos deja con dos opciones, o construir más centros de datos, o hacer que la computación sea más eficiente. Y cualquiera de las dos soluciones, que no son excluyentes, se pueden combinar, trae sus propios problemas. Eso sin hablar de los datos para entrenar a la inteligencia artificial, que también son limitados. En pocas palabras, estamos cerca de quedarnos sin recursos para que la inteligencia artificial siga funcionando como hasta ahora. Algunos números para entender la dimensión del problema. Un solo centro de datos puede consumir tanta electricidad y agua como 50.000 hogares. 50.000. En tiempos de cambio climático y disminución de recursos, es muy poco probable que podamos mantener este tipo de consumo. Entonces, ¿cómo hacer más eficiente la computación dentro de los centros de datos? Esa es la pregunta. Ahora hablemos de algunos detalles técnicos. Toda la tecnología actual hoy funciona básicamente con microchips. En esos chips hay transistores. Cuanto más transistores tenga un chip, más potencia de cálculo tendrá. Sencillo. ¿Han oído de la ley de Moore? No, no es una ley científica, es un término acuñado por el cofundador de Intel, Gordon Moore, por allá en los años 70. Moore predijo que el número de transistores que cabrían en un chip se duplicaría aproximadamente cada dos años. Y hasta ahora, sus cálculos han resultado ser ciertos, dando lugar a chips cada vez más potentes. Sin embargo, los expertos creen que esto alcanzará un límite físico en algún momento de la década de 2020. Esto se debe a que ya no disponemos de la tecnología necesaria para reducir el tamaño de los transistores ni para enfriarlos. Ahora, aparte de estas limitaciones físicas, los nuevos datos para alimentar, para entrenar a la inteligencia artificial también pueden convertirse en un problema. A medida que se generaliza el uso de la inteligencia artificial, crece la preocupación de que ésta acabe con la verdadera innovación y las nuevas ideas. ¿Por qué? Bueno, porque aunque programas como ChatGPT o MidJourney se presenten como creativos, pues en realidad no lo son. La inteligencia artificial se basa en datos ya existentes, que hemos producido nosotros los humanos anteriormente. Así que, si esta inteligencia artificial se incorpora básicamente en todas partes, existe la posibilidad de que no se produzcan nuevos datos originales. Esencialmente, las inteligencias artificiales terminarían alimentándose a sí mismas, anulando todo lo que es nuevo, haciendo que la creatividad se estanque. Este escenario puede parecer irreal, yo sé, pero algunos expertos calculan que en el 2026, hasta el 90% de los contenidos de Internet podrían ya estar generados por una inteligencia artificial. Los expertos ya están pensando en soluciones a estos problemas, como que los centros de datos puedan construirse bajo tierra, en minas o cuevas ya existentes, por ejemplo. Esto ahorraría espacio y recursos. Además, los flujos naturales de agua, por ejemplo, podrían ayudar a refrigerarlos y reducir el consumo de agua. Sin embargo, todo esto depende mucho de su ubicación y es difícil imaginar esto a escala mundial. En cuanto a los microchips más eficientes, pues para muchos es necesario replantearse la tecnología en sí. Los chips informáticos clásicos no están diseñados para tareas específicas de la inteligencia artificial, lo que supone un derroche de energía y un rendimiento inferior al óptimo. Con chips adaptados a la inteligencia artificial, las computadoras podrían hacer mucho más con los mismos recursos. Y en cuanto a la inteligencia artificial que se alimenta a sí misma, pues bueno, habría que adoptar un enfoque holístico, confiar en la inventiva y la creatividad humanas y, al mismo tiempo, beneficiarnos de las capacidades de la inteligencia artificial. Pero esto todavía genera algunas dudas. En general, está claro que hay que replantearse drásticamente cómo y hacia dónde va esta revolución tecnológica. Porque utilizar todos los recursos disponibles para un crecimiento a corto plazo ahora y obstaculizar el desarrollo en el futuro es claramente la forma equivocada de hacerlo. ¿Ustedes qué opinan? Esperamos sus comentarios.', metadata={'source': 'docs/youtube/Los límites físicos de la inteligencia artificial.m4a', 'chunk': 0})]"
      ]
     },
     "execution_count": 4,
     "metadata": {},
     "output_type": "execute_result"
    }
   ],
   "source": [
    "data"
   ]
  },
  {
   "cell_type": "code",
   "execution_count": 10,
   "metadata": {},
   "outputs": [],
   "source": [
    "from langchain.text_splitter import CharacterTextSplitter\n",
    "\n",
    "text_splitter = CharacterTextSplitter.from_tiktoken_encoder(\n",
    "    chunk_size = 400, \n",
    "    chunk_overlap = 20\n",
    ")\n",
    "\n",
    "docs = text_splitter.split_documents(documents = data)"
   ]
  },
  {
   "cell_type": "markdown",
   "metadata": {},
   "source": [
    "## Cargando datos a Qrant"
   ]
  },
  {
   "cell_type": "code",
   "execution_count": 11,
   "metadata": {},
   "outputs": [],
   "source": [
    "url = \"https://ebe8df73-f101-4c3f-8edd-385af9c77530.us-east4-0.gcp.cloud.qdrant.io:6333\" #Reemplaza por tu url\n",
    "api_key = getpass.getpass(\"Ingresa tu API Key de Qdrant : \")"
   ]
  },
  {
   "cell_type": "code",
   "execution_count": 12,
   "metadata": {},
   "outputs": [],
   "source": [
    "from langchain.embeddings import OpenAIEmbeddings\n",
    "from langchain.vectorstores import Qdrant\n",
    "\n",
    "embedding = OpenAIEmbeddings()\n",
    "\n",
    "vectorstore = Qdrant.from_documents(\n",
    "    docs,\n",
    "    embedding,\n",
    "    url = url,\n",
    "    api_key = api_key,\n",
    "    collection_name = \"c_youtube\",\n",
    "    force_recreate = True\n",
    ")"
   ]
  },
  {
   "cell_type": "markdown",
   "metadata": {},
   "source": [
    "## Recuperando contexto de la colección en Qdrant"
   ]
  },
  {
   "cell_type": "code",
   "execution_count": 13,
   "metadata": {},
   "outputs": [],
   "source": [
    "from langchain.chat_models import ChatOpenAI\n",
    "from langchain.chains import RetrievalQA\n",
    "from langchain.prompts import PromptTemplate\n",
    "\n",
    "template = \"\"\"Responda a la pregunta basada en el siguiente contexto.\n",
    "Si no puedes responder a la pregunta, usa la siguiente respuesta \"No lo sé disculpa, puedes buscar la información en internet.\"\n",
    "\n",
    "Contexto: \n",
    "{context}\n",
    "Pregunta: {question}\n",
    "Respuesta: \n",
    "\"\"\"\n",
    "\n",
    "PROMPT = PromptTemplate(\n",
    "    template = template, input_variables = [\"context\", \"question\"]\n",
    ")\n",
    "\n",
    "llm = ChatOpenAI(\n",
    "    model_name = 'gpt-3.5-turbo',\n",
    "    temperature = 0.0\n",
    ")\n",
    "\n",
    "qa = RetrievalQA.from_chain_type(\n",
    "    llm = llm,\n",
    "    chain_type = \"stuff\",\n",
    "    retriever = vectorstore.as_retriever(),\n",
    "    verbose = True,\n",
    "    chain_type_kwargs = {\"prompt\": PROMPT, \"verbose\": True}\n",
    ")"
   ]
  },
  {
   "cell_type": "code",
   "execution_count": 14,
   "metadata": {},
   "outputs": [
    {
     "name": "stdout",
     "output_type": "stream",
     "text": [
      "\n",
      "\n",
      "\u001b[1m> Entering new RetrievalQA chain...\u001b[0m\n",
      "\n",
      "\n",
      "\u001b[1m> Entering new StuffDocumentsChain chain...\u001b[0m\n",
      "\n",
      "\n",
      "\u001b[1m> Entering new LLMChain chain...\u001b[0m\n",
      "Prompt after formatting:\n",
      "\u001b[32;1m\u001b[1;3mResponda a la pregunta basada en el siguiente contexto.\n",
      "Si no puedes responder a la pregunta, usa la siguiente respuesta \"No lo sé disculpa, puedes buscar la información en internet.\"\n",
      "\n",
      "Contexto: \n",
      "¿Qué pasaría si la inteligencia artificial, la que está detrás de nuestro feed de redes sociales, de los pagos bancarios o de las búsquedas de Google, se detiene? ¿Qué pasa si deja de funcionar? Estamos todavía lejos de que eso pase, pero lo que sí está claro es que, antes de que la inteligencia artificial se apodere del planeta, es más fácil quedarnos sin recursos físicos para entrenar y hacer funcionar esta tecnología, que va creciendo más rápido de lo que todos esperaban. Aquí les cuento más. La computación, los cálculos computacionales de los programas de inteligencia artificial, normalmente se hacen en centros de datos. Esos son edificios que albergan miles de computadoras y servidores. Pero esta capacidad física, obvio, también puede llegar a sus límites, de seguir usando la inteligencia artificial al ritmo al que lo venimos haciendo. Esto nos deja con dos opciones, o construir más centros de datos, o hacer que la computación sea más eficiente. Y cualquiera de las dos soluciones, que no son excluyentes, se pueden combinar, trae sus propios problemas. Eso sin hablar de los datos para entrenar a la inteligencia artificial, que también son limitados. En pocas palabras, estamos cerca de quedarnos sin recursos para que la inteligencia artificial siga funcionando como hasta ahora. Algunos números para entender la dimensión del problema. Un solo centro de datos puede consumir tanta electricidad y agua como 50.000 hogares. 50.000. En tiempos de cambio climático y disminución de recursos, es muy poco probable que podamos mantener este tipo de consumo. Entonces, ¿cómo hacer más eficiente la computación dentro de los centros de datos? Esa es la pregunta. Ahora hablemos de algunos detalles técnicos. Toda la tecnología actual hoy funciona básicamente con microchips. En esos chips hay transistores. Cuanto más transistores tenga un chip, más potencia de cálculo tendrá. Sencillo. ¿Han oído de la ley de Moore? No, no es una ley científica, es un término acuñado por el cofundador de Intel, Gordon Moore, por allá en los años 70. Moore predijo que el número de transistores que cabrían en un chip se duplicaría aproximadamente cada dos años. Y hasta ahora, sus cálculos han resultado ser ciertos, dando lugar a chips cada vez más potentes. Sin embargo, los expertos creen que esto alcanzará un límite físico en algún momento de la década de 2020. Esto se debe a que ya no disponemos de la tecnología necesaria para reducir el tamaño de los transistores ni para enfriarlos. Ahora, aparte de estas limitaciones físicas, los nuevos datos para alimentar, para entrenar a la inteligencia artificial también pueden convertirse en un problema. A medida que se generaliza el uso de la inteligencia artificial, crece la preocupación de que ésta acabe con la verdadera innovación y las nuevas ideas. ¿Por qué? Bueno, porque aunque programas como ChatGPT o MidJourney se presenten como creativos, pues en realidad no lo son. La inteligencia artificial se basa en datos ya existentes, que hemos producido nosotros los humanos anteriormente. Así que, si esta inteligencia artificial se incorpora básicamente en todas partes, existe la posibilidad de que no se produzcan nuevos datos originales. Esencialmente, las inteligencias artificiales terminarían alimentándose a sí mismas, anulando todo lo que es nuevo, haciendo que la creatividad se estanque. Este escenario puede parecer irreal, yo sé, pero algunos expertos calculan que en el 2026, hasta el 90% de los contenidos de Internet podrían ya estar generados por una inteligencia artificial. Los expertos ya están pensando en soluciones a estos problemas, como que los centros de datos puedan construirse bajo tierra, en minas o cuevas ya existentes, por ejemplo. Esto ahorraría espacio y recursos. Además, los flujos naturales de agua, por ejemplo, podrían ayudar a refrigerarlos y reducir el consumo de agua. Sin embargo, todo esto depende mucho de su ubicación y es difícil imaginar esto a escala mundial. En cuanto a los microchips más eficientes, pues para muchos es necesario replantearse la tecnología en sí. Los chips informáticos clásicos no están diseñados para tareas específicas de la inteligencia artificial, lo que supone un derroche de energía y un rendimiento inferior al óptimo. Con chips adaptados a la inteligencia artificial, las computadoras podrían hacer mucho más con los mismos recursos. Y en cuanto a la inteligencia artificial que se alimenta a sí misma, pues bueno, habría que adoptar un enfoque holístico, confiar en la inventiva y la creatividad humanas y, al mismo tiempo, beneficiarnos de las capacidades de la inteligencia artificial. Pero esto todavía genera algunas dudas. En general, está claro que hay que replantearse drásticamente cómo y hacia dónde va esta revolución tecnológica. Porque utilizar todos los recursos disponibles para un crecimiento a corto plazo ahora y obstaculizar el desarrollo en el futuro es claramente la forma equivocada de hacerlo. ¿Ustedes qué opinan? Esperamos sus comentarios.\n",
      "Pregunta: cuáles son los límites físicos de la IA\n",
      "Respuesta: \n",
      "\u001b[0m\n",
      "\n",
      "\u001b[1m> Finished chain.\u001b[0m\n",
      "\n",
      "\u001b[1m> Finished chain.\u001b[0m\n",
      "\n",
      "\u001b[1m> Finished chain.\u001b[0m\n"
     ]
    },
    {
     "data": {
      "text/plain": [
       "'Los límites físicos de la IA incluyen la capacidad limitada de los centros de datos para realizar cálculos computacionales, la limitación en la disponibilidad de recursos físicos como electricidad y agua, y la limitación en la capacidad de reducir el tamaño de los transistores y enfriarlos en los microchips.'"
      ]
     },
     "execution_count": 14,
     "metadata": {},
     "output_type": "execute_result"
    }
   ],
   "source": [
    "qa.run(\"cuáles son los límites físicos de la IA\")"
   ]
  },
  {
   "cell_type": "code",
   "execution_count": 15,
   "metadata": {},
   "outputs": [
    {
     "name": "stdout",
     "output_type": "stream",
     "text": [
      "\n",
      "\n",
      "\u001b[1m> Entering new RetrievalQA chain...\u001b[0m\n",
      "\n",
      "\n",
      "\u001b[1m> Entering new StuffDocumentsChain chain...\u001b[0m\n",
      "\n",
      "\n",
      "\u001b[1m> Entering new LLMChain chain...\u001b[0m\n",
      "Prompt after formatting:\n",
      "\u001b[32;1m\u001b[1;3mResponda a la pregunta basada en el siguiente contexto.\n",
      "Si no puedes responder a la pregunta, usa la siguiente respuesta \"No lo sé disculpa, puedes buscar la información en internet.\"\n",
      "\n",
      "Contexto: \n",
      "¿Qué pasaría si la inteligencia artificial, la que está detrás de nuestro feed de redes sociales, de los pagos bancarios o de las búsquedas de Google, se detiene? ¿Qué pasa si deja de funcionar? Estamos todavía lejos de que eso pase, pero lo que sí está claro es que, antes de que la inteligencia artificial se apodere del planeta, es más fácil quedarnos sin recursos físicos para entrenar y hacer funcionar esta tecnología, que va creciendo más rápido de lo que todos esperaban. Aquí les cuento más. La computación, los cálculos computacionales de los programas de inteligencia artificial, normalmente se hacen en centros de datos. Esos son edificios que albergan miles de computadoras y servidores. Pero esta capacidad física, obvio, también puede llegar a sus límites, de seguir usando la inteligencia artificial al ritmo al que lo venimos haciendo. Esto nos deja con dos opciones, o construir más centros de datos, o hacer que la computación sea más eficiente. Y cualquiera de las dos soluciones, que no son excluyentes, se pueden combinar, trae sus propios problemas. Eso sin hablar de los datos para entrenar a la inteligencia artificial, que también son limitados. En pocas palabras, estamos cerca de quedarnos sin recursos para que la inteligencia artificial siga funcionando como hasta ahora. Algunos números para entender la dimensión del problema. Un solo centro de datos puede consumir tanta electricidad y agua como 50.000 hogares. 50.000. En tiempos de cambio climático y disminución de recursos, es muy poco probable que podamos mantener este tipo de consumo. Entonces, ¿cómo hacer más eficiente la computación dentro de los centros de datos? Esa es la pregunta. Ahora hablemos de algunos detalles técnicos. Toda la tecnología actual hoy funciona básicamente con microchips. En esos chips hay transistores. Cuanto más transistores tenga un chip, más potencia de cálculo tendrá. Sencillo. ¿Han oído de la ley de Moore? No, no es una ley científica, es un término acuñado por el cofundador de Intel, Gordon Moore, por allá en los años 70. Moore predijo que el número de transistores que cabrían en un chip se duplicaría aproximadamente cada dos años. Y hasta ahora, sus cálculos han resultado ser ciertos, dando lugar a chips cada vez más potentes. Sin embargo, los expertos creen que esto alcanzará un límite físico en algún momento de la década de 2020. Esto se debe a que ya no disponemos de la tecnología necesaria para reducir el tamaño de los transistores ni para enfriarlos. Ahora, aparte de estas limitaciones físicas, los nuevos datos para alimentar, para entrenar a la inteligencia artificial también pueden convertirse en un problema. A medida que se generaliza el uso de la inteligencia artificial, crece la preocupación de que ésta acabe con la verdadera innovación y las nuevas ideas. ¿Por qué? Bueno, porque aunque programas como ChatGPT o MidJourney se presenten como creativos, pues en realidad no lo son. La inteligencia artificial se basa en datos ya existentes, que hemos producido nosotros los humanos anteriormente. Así que, si esta inteligencia artificial se incorpora básicamente en todas partes, existe la posibilidad de que no se produzcan nuevos datos originales. Esencialmente, las inteligencias artificiales terminarían alimentándose a sí mismas, anulando todo lo que es nuevo, haciendo que la creatividad se estanque. Este escenario puede parecer irreal, yo sé, pero algunos expertos calculan que en el 2026, hasta el 90% de los contenidos de Internet podrían ya estar generados por una inteligencia artificial. Los expertos ya están pensando en soluciones a estos problemas, como que los centros de datos puedan construirse bajo tierra, en minas o cuevas ya existentes, por ejemplo. Esto ahorraría espacio y recursos. Además, los flujos naturales de agua, por ejemplo, podrían ayudar a refrigerarlos y reducir el consumo de agua. Sin embargo, todo esto depende mucho de su ubicación y es difícil imaginar esto a escala mundial. En cuanto a los microchips más eficientes, pues para muchos es necesario replantearse la tecnología en sí. Los chips informáticos clásicos no están diseñados para tareas específicas de la inteligencia artificial, lo que supone un derroche de energía y un rendimiento inferior al óptimo. Con chips adaptados a la inteligencia artificial, las computadoras podrían hacer mucho más con los mismos recursos. Y en cuanto a la inteligencia artificial que se alimenta a sí misma, pues bueno, habría que adoptar un enfoque holístico, confiar en la inventiva y la creatividad humanas y, al mismo tiempo, beneficiarnos de las capacidades de la inteligencia artificial. Pero esto todavía genera algunas dudas. En general, está claro que hay que replantearse drásticamente cómo y hacia dónde va esta revolución tecnológica. Porque utilizar todos los recursos disponibles para un crecimiento a corto plazo ahora y obstaculizar el desarrollo en el futuro es claramente la forma equivocada de hacerlo. ¿Ustedes qué opinan? Esperamos sus comentarios.\n",
      "Pregunta: de qué trata la ley de Moore\n",
      "Respuesta: \n",
      "\u001b[0m\n"
     ]
    },
    {
     "name": "stdout",
     "output_type": "stream",
     "text": [
      "\n",
      "\u001b[1m> Finished chain.\u001b[0m\n",
      "\n",
      "\u001b[1m> Finished chain.\u001b[0m\n",
      "\n",
      "\u001b[1m> Finished chain.\u001b[0m\n"
     ]
    },
    {
     "data": {
      "text/plain": [
       "'La ley de Moore se refiere a la observación de que el número de transistores en un chip de computadora se duplica aproximadamente cada dos años.'"
      ]
     },
     "execution_count": 15,
     "metadata": {},
     "output_type": "execute_result"
    }
   ],
   "source": [
    "qa.run(\"de qué trata la ley de Moore\")"
   ]
  }
 ],
 "metadata": {
  "kernelspec": {
   "display_name": "Python 3",
   "language": "python",
   "name": "python3"
  },
  "language_info": {
   "codemirror_mode": {
    "name": "ipython",
    "version": 3
   },
   "file_extension": ".py",
   "mimetype": "text/x-python",
   "name": "python",
   "nbconvert_exporter": "python",
   "pygments_lexer": "ipython3",
   "version": "3.10.8"
  }
 },
 "nbformat": 4,
 "nbformat_minor": 2
}
