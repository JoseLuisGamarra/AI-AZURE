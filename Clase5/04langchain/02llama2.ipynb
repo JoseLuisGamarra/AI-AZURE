{
 "cells": [
  {
   "cell_type": "markdown",
   "metadata": {},
   "source": [
    "## Usando el modelo de lenguaje Open Source de Meta - Llama2 (70B)"
   ]
  },
  {
   "cell_type": "code",
   "execution_count": 1,
   "metadata": {},
   "outputs": [],
   "source": [
    "import os, getpass\n",
    "from langchain.llms import Replicate"
   ]
  },
  {
   "cell_type": "code",
   "execution_count": 2,
   "metadata": {},
   "outputs": [],
   "source": [
    "os.environ[\"REPLICATE_API_TOKEN\"] = getpass.getpass(\"Ingresa tu API Key de Replicate : \")"
   ]
  },
  {
   "cell_type": "code",
   "execution_count": 3,
   "metadata": {},
   "outputs": [
    {
     "name": "stdout",
     "output_type": "stream",
     "text": [
      "?\n",
      "A data lake is a centralized repository that allows you to store all your structured and unstructured data, at any scale. You can store your data as-is, without having to first structure the data, and run different types of analytics – from dashboards and visualizations, to big data processing, real-time analytics, and machine learning to guide better decisions.\n",
      "Data lakes are becoming increasingly popular because they address many of the limitations that exist with traditional data warehouses and data marts, which were not designed to handle the massive volumes and varieties of today’s data\n"
     ]
    }
   ],
   "source": [
    "llm = Replicate(\n",
    "    model = \"meta/llama-2-70b:a52e56fee2269a78c9279800ec88898cecb6c8f1df22a6483132bea266648f00\",\n",
    "    model_kwargs = {\"temperature\" : 0.01, \"max_length\" : 500}\n",
    ")\n",
    "\n",
    "print(llm.predict(\"what is a Data Lake\"))"
   ]
  }
 ],
 "metadata": {
  "kernelspec": {
   "display_name": "Python 3",
   "language": "python",
   "name": "python3"
  },
  "language_info": {
   "codemirror_mode": {
    "name": "ipython",
    "version": 3
   },
   "file_extension": ".py",
   "mimetype": "text/x-python",
   "name": "python",
   "nbconvert_exporter": "python",
   "pygments_lexer": "ipython3",
   "version": "3.10.8"
  }
 },
 "nbformat": 4,
 "nbformat_minor": 2
}
